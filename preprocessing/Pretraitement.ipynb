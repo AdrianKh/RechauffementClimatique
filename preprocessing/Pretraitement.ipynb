{
 "cells": [
  {
   "cell_type": "markdown",
   "metadata": {},
   "source": [
    "# Preprocessing datas"
   ]
  },
  {
   "cell_type": "code",
   "execution_count": null,
   "metadata": {},
   "outputs": [],
   "source": [
    "import pandas as pd\n",
    "import numpy as np"
   ]
  },
  {
   "cell_type": "code",
   "execution_count": null,
   "metadata": {},
   "outputs": [],
   "source": [
    "min_lyon = pd.read_csv(\"../data/min_temp_lyon.txt\", skiprows = 20)\n",
    "max_lyon = pd.read_csv(\"../data/max_temp_lyon.txt\", skiprows = 20)\n",
    "min_paris = pd.read_csv(\"../data/min_temp_paris.txt\", skiprows = 22)\n",
    "max_paris = pd.read_csv(\"../data/max_temp_paris.txt\", skiprows = 22)\n",
    "max_bordeaux = pd.read_csv(\"../data/min_temp_bordeaux.txt\", skiprows = 19)\n",
    "min_bordeaux = pd.read_csv(\"../data/max_temp_bordeaux.txt\", skiprows = 19)\n",
    "max_toulouse = pd.read_csv(\"../data/min_temp_toulouse.txt\", skiprows = 20)\n",
    "min_toulouse = pd.read_csv(\"../data/max_temp_toulouse.txt\", skiprows = 20)\n",
    "max_marseille = pd.read_csv(\"../data/min_temp_marseille.txt\", skiprows = 20)\n",
    "min_marseille = pd.read_csv(\"../data/max_temp_marseille.txt\", skiprows = 20)"
   ]
  },
  {
   "cell_type": "code",
   "execution_count": null,
   "metadata": {},
   "outputs": [],
   "source": [
    "#Lyon\n",
    "min_lyon = min_lyon.iloc[:,1:]\n",
    "max_lyon = max_lyon.iloc[:,1:]\n",
    "#Paris\n",
    "max_paris = max_paris.iloc[:,1:]\n",
    "min_paris = min_paris.iloc[:,1:]\n",
    "#Bordeaux\n",
    "max_bordeaux = max_bordeaux.iloc[:,1:]\n",
    "min_bordeaux = min_bordeaux.iloc[:,1:]\n",
    "#Toulouse\n",
    "max_toulouse = max_toulouse.iloc[:,1:]\n",
    "min_toulouse = min_toulouse.iloc[:,1:]\n",
    "#Marseille\n",
    "max_marseille = max_marseille.iloc[:,1:]\n",
    "min_marseille = min_marseille.iloc[:,1:]"
   ]
  },
  {
   "cell_type": "code",
   "execution_count": null,
   "metadata": {},
   "outputs": [],
   "source": [
    "max_lyon.keys()"
   ]
  },
  {
   "cell_type": "code",
   "execution_count": null,
   "metadata": {},
   "outputs": [],
   "source": [
    "index_d = '    DATE'\n",
    "join_lyon = max_lyon.join(min_lyon.set_index(index_d), on=index_d)\n",
    "join_lyon['IdVille'] = \"69\"\n",
    "join_paris = max_paris.join(min_paris.set_index(index_d), on=index_d)\n",
    "join_paris['IdVille'] = \"75\"\n",
    "join_marseille = max_marseille.join(min_marseille.set_index(index_d), on=index_d)\n",
    "join_marseille['IdVille'] = \"13\"\n",
    "join_toulouse = max_toulouse.join(min_toulouse.set_index(index_d), on=index_d)\n",
    "join_toulouse['IdVille'] = \"31\"\n",
    "join_bordeaux = max_bordeaux.join(min_bordeaux.set_index(index_d), on=index_d)\n",
    "join_bordeaux['IdVille'] = \"33\""
   ]
  },
  {
   "cell_type": "code",
   "execution_count": null,
   "metadata": {},
   "outputs": [],
   "source": [
    "join_lyon"
   ]
  },
  {
   "cell_type": "code",
   "execution_count": null,
   "metadata": {},
   "outputs": [],
   "source": [
    "concat_villes = pd.concat([join_lyon,join_paris,join_marseille,join_toulouse,join_bordeaux], axis=0, sort=False)\n"
   ]
  },
  {
   "cell_type": "code",
   "execution_count": null,
   "metadata": {},
   "outputs": [],
   "source": [
    "print(concat_villes)"
   ]
  },
  {
   "cell_type": "code",
   "execution_count": null,
   "metadata": {},
   "outputs": [],
   "source": [
    "date_index = '    DATE'\n",
    "Z = concat_villes.apply(lambda x: [x[0:4],x[4:6],x[6:8]], axis=1, result_type='expand')"
   ]
  },
  {
   "cell_type": "code",
   "execution_count": null,
   "metadata": {},
   "outputs": [],
   "source": [
    "concat_villes[index_d] = concat_villes[index_d].apply(lambda x: str(x)[0:4]+\"-\"+str(x)[4:6]+\"-\"+str(x)[6:8])"
   ]
  },
  {
   "cell_type": "code",
   "execution_count": null,
   "metadata": {},
   "outputs": [],
   "source": [
    "concat_villes[['annee','mois','jour']] = concat_villes[index_d].str.split(\"-\",expand=True,)\n",
    "#concat_villes"
   ]
  },
  {
   "cell_type": "code",
   "execution_count": null,
   "metadata": {},
   "outputs": [],
   "source": [
    "import json\n",
    "s = pd.Series(range(concat_villes.shape[0]))\n",
    "concat_villes = concat_villes.set_index([s])\n",
    "res = concat_villes.to_json(orient='records').replace(\"    DATE\",\"DATE\").replace(\"   TX\",\"Tmax\").replace(\"   TN\",\"Tmin\").replace(\" Q_TX\",\"QTmax\").replace(\" Q_TN\",\"QTmin\")\n",
    "#res"
   ]
  },
  {
   "cell_type": "code",
   "execution_count": null,
   "metadata": {},
   "outputs": [],
   "source": [
    "f = open(\"../data/data_temp.json\", \"w\")\n",
    "f.write(res)\n",
    "f.close()"
   ]
  },
  {
   "cell_type": "code",
   "execution_count": null,
   "metadata": {},
   "outputs": [],
   "source": []
  }
 ],
 "metadata": {
  "kernelspec": {
   "display_name": "Python 3",
   "language": "python",
   "name": "python3"
  },
  "language_info": {
   "codemirror_mode": {
    "name": "ipython",
    "version": 3
   },
   "file_extension": ".py",
   "mimetype": "text/x-python",
   "name": "python",
   "nbconvert_exporter": "python",
   "pygments_lexer": "ipython3",
   "version": "3.7.9"
  }
 },
 "nbformat": 4,
 "nbformat_minor": 4
}
